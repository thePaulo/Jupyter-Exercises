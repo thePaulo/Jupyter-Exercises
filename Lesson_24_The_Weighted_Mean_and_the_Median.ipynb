{
  "nbformat": 4,
  "nbformat_minor": 0,
  "metadata": {
    "colab": {
      "name": "Lesson 24 - The Weighted Mean and the Median",
      "version": "0.3.2",
      "provenance": []
    },
    "kernelspec": {
      "name": "python3",
      "display_name": "Python 3"
    }
  },
  "cells": [
    {
      "metadata": {
        "id": "MOBVl10lk0gG",
        "colab_type": "text"
      },
      "cell_type": "markdown",
      "source": [
        "# 1 - Introduction "
      ]
    },
    {
      "metadata": {
        "id": "k8ck58RQlJMV",
        "colab_type": "text"
      },
      "cell_type": "markdown",
      "source": [
        "In the previous mission, we learned about the **mean** and worked with a data set on **house sale prices:**\n",
        "\n",
        "| |Order | PID | MS SubClass | MS Zoning | Lot Frontage | Lot Area | Street | Alley | Lot Shape | Mo Sold | Yr Sold | Sale Type | Sale Condition | SalePrice |        \n",
        "|-------|-----|-------------|-----------|--------------|----------|--------|-------|-----------|---------|---------|-----------|----------------|-----------|--------|\n",
        "| 0     | 1   | 526301100   | 20        | RL           | 141.0    | 131770 | Pave  | NaN       | 0       | 5       | 2010      | WD             | Normal    | 215000 |\n",
        "| 1     | 2   | 526350040   | 20        | RH           | 80.0     | 11622  | Pave  | NaN       | 0       | 6       | 2010      | WD             | Normal    | 105000 |\n",
        "| 2     | 3   | 526351010   | 20        | RL           | 81.0     | 14267  | Pave  | NaN       | 12500   | 6       | 2010      | WD             | Normal    | 172000 |\n",
        "| 3     | 4   | 526353030   | 20        | RL           | 93.0     | 11160  | Pave  | NaN       | 0       | 4       | 2010      | WD             | Normal    | 244000 |\n",
        "| 4     | 5   | 527105010   | 60        | RL           | 74.0     | 13830  | Pave  | NaN       | 0       | 3       | 2010      | WD             | Normal    | 189900 |\n",
        "\n",
        "\n",
        "In one of the steps, we computed the mean sale price and found it to be approximately 180796:"
      ]
    },
    {
      "metadata": {
        "id": "orzdUSbBmJ01",
        "colab_type": "text"
      },
      "cell_type": "markdown",
      "source": [
        "Let's say that instead of the above data set, we only have the following summary table based on it:\n",
        "\n",
        "|  |Year | Mean Price | Houses Sold   |    \n",
        "|------|------------|---------------|-----|\n",
        "| 0    | 2006       | 181761.648000 | 625 |\n",
        "| 1    | 2007       | 185138.207493 | 694 |\n",
        "| 2    | 2008       | 178841.750804 | 622 |\n",
        "| 3    | 2009       | 181404.567901 | 648 |\n",
        "| 4    | 2010       | 172597.598240 | 341 |"
      ]
    },
    {
      "metadata": {
        "id": "P2-Dmwq0mYlL",
        "colab_type": "text"
      },
      "cell_type": "markdown",
      "source": [
        "Once again, our task is to find the **mean** house sale price across all years. Intuitively, we just need to find the mean of the Mean Price column. Let's do that and see it the result matches what we got first from computing the mean of the SalePrice column in the original data set."
      ]
    },
    {
      "metadata": {
        "id": "xHrJ9diIms2N",
        "colab_type": "code",
        "colab": {}
      },
      "cell_type": "code",
      "source": [
        "import pandas as pd\n",
        "import numpy as np\n",
        "\n",
        "houses = pd.read_csv(\"AmesHousing_1.txt\",sep='\\t')\n",
        "\n",
        "\n",
        "houses_per_year = houses.pivot_table(index=\"Yr Sold\",\n",
        "                   values=[\"SalePrice\"],\n",
        "                   aggfunc=[np.mean,np.count_nonzero])\n",
        "\n",
        "houses_per_year.columns = houses_per_year.columns.droplevel(0)\n",
        "houses_per_year.columns = [\"Mean_Price\", \"Houses_Sold\"]\n",
        "houses_per_year.index.name = \"Year\"\n",
        "\n",
        "print(houses_per_year.Mean_Price.loc[2006])\n",
        "\n",
        "houses_per_year.head()"
      ],
      "execution_count": 0,
      "outputs": []
    },
    {
      "metadata": {
        "id": "yPyeoohBrYG5",
        "colab_type": "text"
      },
      "cell_type": "markdown",
      "source": [
        "**Exercise**\n",
        "\n",
        "<img width=\"100\" src=\"https://drive.google.com/uc?export=view&id=1E8tR7B9YYUXsU_rddJAyq0FrM0MSelxZ\">\n",
        "\n",
        "\n",
        "- Compute the **mean** of the **Mean_Price** column in the **houses_per_year** data set. Assign the value to a variable named **mean_new.**\n",
        "  - Note that **houses_per_year** is a DataFrame object, so you can use directly the **Series.mean()** method.\n",
        "- Compute the **mean** of the **SalePrice** column in the **houses** data set. Assign the value to a variable named **mean_original**.\n",
        "- Measure the difference between the two means, and assign the result to a variable named **difference**. If they are equal, the difference should be 0.\n",
        "  - For answer checking purposes use **mean_original - mean_new**, not **mean_new - mean_original**."
      ]
    },
    {
      "metadata": {
        "id": "vs-T7lIiSIIN",
        "colab_type": "code",
        "colab": {
          "resources": {
            "http://localhost:8080/nbextensions/google.colab/files.js": {
              "data": "Ly8gQ29weXJpZ2h0IDIwMTcgR29vZ2xlIExMQwovLwovLyBMaWNlbnNlZCB1bmRlciB0aGUgQXBhY2hlIExpY2Vuc2UsIFZlcnNpb24gMi4wICh0aGUgIkxpY2Vuc2UiKTsKLy8geW91IG1heSBub3QgdXNlIHRoaXMgZmlsZSBleGNlcHQgaW4gY29tcGxpYW5jZSB3aXRoIHRoZSBMaWNlbnNlLgovLyBZb3UgbWF5IG9idGFpbiBhIGNvcHkgb2YgdGhlIExpY2Vuc2UgYXQKLy8KLy8gICAgICBodHRwOi8vd3d3LmFwYWNoZS5vcmcvbGljZW5zZXMvTElDRU5TRS0yLjAKLy8KLy8gVW5sZXNzIHJlcXVpcmVkIGJ5IGFwcGxpY2FibGUgbGF3IG9yIGFncmVlZCB0byBpbiB3cml0aW5nLCBzb2Z0d2FyZQovLyBkaXN0cmlidXRlZCB1bmRlciB0aGUgTGljZW5zZSBpcyBkaXN0cmlidXRlZCBvbiBhbiAiQVMgSVMiIEJBU0lTLAovLyBXSVRIT1VUIFdBUlJBTlRJRVMgT1IgQ09ORElUSU9OUyBPRiBBTlkgS0lORCwgZWl0aGVyIGV4cHJlc3Mgb3IgaW1wbGllZC4KLy8gU2VlIHRoZSBMaWNlbnNlIGZvciB0aGUgc3BlY2lmaWMgbGFuZ3VhZ2UgZ292ZXJuaW5nIHBlcm1pc3Npb25zIGFuZAovLyBsaW1pdGF0aW9ucyB1bmRlciB0aGUgTGljZW5zZS4KCi8qKgogKiBAZmlsZW92ZXJ2aWV3IEhlbHBlcnMgZm9yIGdvb2dsZS5jb2xhYiBQeXRob24gbW9kdWxlLgogKi8KKGZ1bmN0aW9uKHNjb3BlKSB7CmZ1bmN0aW9uIHNwYW4odGV4dCwgc3R5bGVBdHRyaWJ1dGVzID0ge30pIHsKICBjb25zdCBlbGVtZW50ID0gZG9jdW1lbnQuY3JlYXRlRWxlbWVudCgnc3BhbicpOwogIGVsZW1lbnQudGV4dENvbnRlbnQgPSB0ZXh0OwogIGZvciAoY29uc3Qga2V5IG9mIE9iamVjdC5rZXlzKHN0eWxlQXR0cmlidXRlcykpIHsKICAgIGVsZW1lbnQuc3R5bGVba2V5XSA9IHN0eWxlQXR0cmlidXRlc1trZXldOwogIH0KICByZXR1cm4gZWxlbWVudDsKfQoKLy8gTWF4IG51bWJlciBvZiBieXRlcyB3aGljaCB3aWxsIGJlIHVwbG9hZGVkIGF0IGEgdGltZS4KY29uc3QgTUFYX1BBWUxPQURfU0laRSA9IDEwMCAqIDEwMjQ7Ci8vIE1heCBhbW91bnQgb2YgdGltZSB0byBibG9jayB3YWl0aW5nIGZvciB0aGUgdXNlci4KY29uc3QgRklMRV9DSEFOR0VfVElNRU9VVF9NUyA9IDMwICogMTAwMDsKCmZ1bmN0aW9uIF91cGxvYWRGaWxlcyhpbnB1dElkLCBvdXRwdXRJZCkgewogIGNvbnN0IHN0ZXBzID0gdXBsb2FkRmlsZXNTdGVwKGlucHV0SWQsIG91dHB1dElkKTsKICBjb25zdCBvdXRwdXRFbGVtZW50ID0gZG9jdW1lbnQuZ2V0RWxlbWVudEJ5SWQob3V0cHV0SWQpOwogIC8vIENhY2hlIHN0ZXBzIG9uIHRoZSBvdXRwdXRFbGVtZW50IHRvIG1ha2UgaXQgYXZhaWxhYmxlIGZvciB0aGUgbmV4dCBjYWxsCiAgLy8gdG8gdXBsb2FkRmlsZXNDb250aW51ZSBmcm9tIFB5dGhvbi4KICBvdXRwdXRFbGVtZW50LnN0ZXBzID0gc3RlcHM7CgogIHJldHVybiBfdXBsb2FkRmlsZXNDb250aW51ZShvdXRwdXRJZCk7Cn0KCi8vIFRoaXMgaXMgcm91Z2hseSBhbiBhc3luYyBnZW5lcmF0b3IgKG5vdCBzdXBwb3J0ZWQgaW4gdGhlIGJyb3dzZXIgeWV0KSwKLy8gd2hlcmUgdGhlcmUgYXJlIG11bHRpcGxlIGFzeW5jaHJvbm91cyBzdGVwcyBhbmQgdGhlIFB5dGhvbiBzaWRlIGlzIGdvaW5nCi8vIHRvIHBvbGwgZm9yIGNvbXBsZXRpb24gb2YgZWFjaCBzdGVwLgovLyBUaGlzIHVzZXMgYSBQcm9taXNlIHRvIGJsb2NrIHRoZSBweXRob24gc2lkZSBvbiBjb21wbGV0aW9uIG9mIGVhY2ggc3RlcCwKLy8gdGhlbiBwYXNzZXMgdGhlIHJlc3VsdCBvZiB0aGUgcHJldmlvdXMgc3RlcCBhcyB0aGUgaW5wdXQgdG8gdGhlIG5leHQgc3RlcC4KZnVuY3Rpb24gX3VwbG9hZEZpbGVzQ29udGludWUob3V0cHV0SWQpIHsKICBjb25zdCBvdXRwdXRFbGVtZW50ID0gZG9jdW1lbnQuZ2V0RWxlbWVudEJ5SWQob3V0cHV0SWQpOwogIGNvbnN0IHN0ZXBzID0gb3V0cHV0RWxlbWVudC5zdGVwczsKCiAgY29uc3QgbmV4dCA9IHN0ZXBzLm5leHQob3V0cHV0RWxlbWVudC5sYXN0UHJvbWlzZVZhbHVlKTsKICByZXR1cm4gUHJvbWlzZS5yZXNvbHZlKG5leHQudmFsdWUucHJvbWlzZSkudGhlbigodmFsdWUpID0+IHsKICAgIC8vIENhY2hlIHRoZSBsYXN0IHByb21pc2UgdmFsdWUgdG8gbWFrZSBpdCBhdmFpbGFibGUgdG8gdGhlIG5leHQKICAgIC8vIHN0ZXAgb2YgdGhlIGdlbmVyYXRvci4KICAgIG91dHB1dEVsZW1lbnQubGFzdFByb21pc2VWYWx1ZSA9IHZhbHVlOwogICAgcmV0dXJuIG5leHQudmFsdWUucmVzcG9uc2U7CiAgfSk7Cn0KCi8qKgogKiBHZW5lcmF0b3IgZnVuY3Rpb24gd2hpY2ggaXMgY2FsbGVkIGJldHdlZW4gZWFjaCBhc3luYyBzdGVwIG9mIHRoZSB1cGxvYWQKICogcHJvY2Vzcy4KICogQHBhcmFtIHtzdHJpbmd9IGlucHV0SWQgRWxlbWVudCBJRCBvZiB0aGUgaW5wdXQgZmlsZSBwaWNrZXIgZWxlbWVudC4KICogQHBhcmFtIHtzdHJpbmd9IG91dHB1dElkIEVsZW1lbnQgSUQgb2YgdGhlIG91dHB1dCBkaXNwbGF5LgogKiBAcmV0dXJuIHshSXRlcmFibGU8IU9iamVjdD59IEl0ZXJhYmxlIG9mIG5leHQgc3RlcHMuCiAqLwpmdW5jdGlvbiogdXBsb2FkRmlsZXNTdGVwKGlucHV0SWQsIG91dHB1dElkKSB7CiAgY29uc3QgaW5wdXRFbGVtZW50ID0gZG9jdW1lbnQuZ2V0RWxlbWVudEJ5SWQoaW5wdXRJZCk7CiAgaW5wdXRFbGVtZW50LmRpc2FibGVkID0gZmFsc2U7CgogIGNvbnN0IG91dHB1dEVsZW1lbnQgPSBkb2N1bWVudC5nZXRFbGVtZW50QnlJZChvdXRwdXRJZCk7CiAgb3V0cHV0RWxlbWVudC5pbm5lckhUTUwgPSAnJzsKCiAgY29uc3QgcGlja2VkUHJvbWlzZSA9IG5ldyBQcm9taXNlKChyZXNvbHZlKSA9PiB7CiAgICBpbnB1dEVsZW1lbnQuYWRkRXZlbnRMaXN0ZW5lcignY2hhbmdlJywgKGUpID0+IHsKICAgICAgcmVzb2x2ZShlLnRhcmdldC5maWxlcyk7CiAgICB9KTsKICB9KTsKCiAgY29uc3QgY2FuY2VsID0gZG9jdW1lbnQuY3JlYXRlRWxlbWVudCgnYnV0dG9uJyk7CiAgaW5wdXRFbGVtZW50LnBhcmVudEVsZW1lbnQuYXBwZW5kQ2hpbGQoY2FuY2VsKTsKICBjYW5jZWwudGV4dENvbnRlbnQgPSAnQ2FuY2VsIHVwbG9hZCc7CiAgY29uc3QgY2FuY2VsUHJvbWlzZSA9IG5ldyBQcm9taXNlKChyZXNvbHZlKSA9PiB7CiAgICBjYW5jZWwub25jbGljayA9ICgpID0+IHsKICAgICAgcmVzb2x2ZShudWxsKTsKICAgIH07CiAgfSk7CgogIC8vIENhbmNlbCB1cGxvYWQgaWYgdXNlciBoYXNuJ3QgcGlja2VkIGFueXRoaW5nIGluIHRpbWVvdXQuCiAgY29uc3QgdGltZW91dFByb21pc2UgPSBuZXcgUHJvbWlzZSgocmVzb2x2ZSkgPT4gewogICAgc2V0VGltZW91dCgoKSA9PiB7CiAgICAgIHJlc29sdmUobnVsbCk7CiAgICB9LCBGSUxFX0NIQU5HRV9USU1FT1VUX01TKTsKICB9KTsKCiAgLy8gV2FpdCBmb3IgdGhlIHVzZXIgdG8gcGljayB0aGUgZmlsZXMuCiAgY29uc3QgZmlsZXMgPSB5aWVsZCB7CiAgICBwcm9taXNlOiBQcm9taXNlLnJhY2UoW3BpY2tlZFByb21pc2UsIHRpbWVvdXRQcm9taXNlLCBjYW5jZWxQcm9taXNlXSksCiAgICByZXNwb25zZTogewogICAgICBhY3Rpb246ICdzdGFydGluZycsCiAgICB9CiAgfTsKCiAgaWYgKCFmaWxlcykgewogICAgcmV0dXJuIHsKICAgICAgcmVzcG9uc2U6IHsKICAgICAgICBhY3Rpb246ICdjb21wbGV0ZScsCiAgICAgIH0KICAgIH07CiAgfQoKICBjYW5jZWwucmVtb3ZlKCk7CgogIC8vIERpc2FibGUgdGhlIGlucHV0IGVsZW1lbnQgc2luY2UgZnVydGhlciBwaWNrcyBhcmUgbm90IGFsbG93ZWQuCiAgaW5wdXRFbGVtZW50LmRpc2FibGVkID0gdHJ1ZTsKCiAgZm9yIChjb25zdCBmaWxlIG9mIGZpbGVzKSB7CiAgICBjb25zdCBsaSA9IGRvY3VtZW50LmNyZWF0ZUVsZW1lbnQoJ2xpJyk7CiAgICBsaS5hcHBlbmQoc3BhbihmaWxlLm5hbWUsIHtmb250V2VpZ2h0OiAnYm9sZCd9KSk7CiAgICBsaS5hcHBlbmQoc3BhbigKICAgICAgICBgKCR7ZmlsZS50eXBlIHx8ICduL2EnfSkgLSAke2ZpbGUuc2l6ZX0gYnl0ZXMsIGAgKwogICAgICAgIGBsYXN0IG1vZGlmaWVkOiAkewogICAgICAgICAgICBmaWxlLmxhc3RNb2RpZmllZERhdGUgPyBmaWxlLmxhc3RNb2RpZmllZERhdGUudG9Mb2NhbGVEYXRlU3RyaW5nKCkgOgogICAgICAgICAgICAgICAgICAgICAgICAgICAgICAgICAgICAnbi9hJ30gLSBgKSk7CiAgICBjb25zdCBwZXJjZW50ID0gc3BhbignMCUgZG9uZScpOwogICAgbGkuYXBwZW5kQ2hpbGQocGVyY2VudCk7CgogICAgb3V0cHV0RWxlbWVudC5hcHBlbmRDaGlsZChsaSk7CgogICAgY29uc3QgZmlsZURhdGFQcm9taXNlID0gbmV3IFByb21pc2UoKHJlc29sdmUpID0+IHsKICAgICAgY29uc3QgcmVhZGVyID0gbmV3IEZpbGVSZWFkZXIoKTsKICAgICAgcmVhZGVyLm9ubG9hZCA9IChlKSA9PiB7CiAgICAgICAgcmVzb2x2ZShlLnRhcmdldC5yZXN1bHQpOwogICAgICB9OwogICAgICByZWFkZXIucmVhZEFzQXJyYXlCdWZmZXIoZmlsZSk7CiAgICB9KTsKICAgIC8vIFdhaXQgZm9yIHRoZSBkYXRhIHRvIGJlIHJlYWR5LgogICAgbGV0IGZpbGVEYXRhID0geWllbGQgewogICAgICBwcm9taXNlOiBmaWxlRGF0YVByb21pc2UsCiAgICAgIHJlc3BvbnNlOiB7CiAgICAgICAgYWN0aW9uOiAnY29udGludWUnLAogICAgICB9CiAgICB9OwoKICAgIC8vIFVzZSBhIGNodW5rZWQgc2VuZGluZyB0byBhdm9pZCBtZXNzYWdlIHNpemUgbGltaXRzLiBTZWUgYi82MjExNTY2MC4KICAgIGxldCBwb3NpdGlvbiA9IDA7CiAgICB3aGlsZSAocG9zaXRpb24gPCBmaWxlRGF0YS5ieXRlTGVuZ3RoKSB7CiAgICAgIGNvbnN0IGxlbmd0aCA9IE1hdGgubWluKGZpbGVEYXRhLmJ5dGVMZW5ndGggLSBwb3NpdGlvbiwgTUFYX1BBWUxPQURfU0laRSk7CiAgICAgIGNvbnN0IGNodW5rID0gbmV3IFVpbnQ4QXJyYXkoZmlsZURhdGEsIHBvc2l0aW9uLCBsZW5ndGgpOwogICAgICBwb3NpdGlvbiArPSBsZW5ndGg7CgogICAgICBjb25zdCBiYXNlNjQgPSBidG9hKFN0cmluZy5mcm9tQ2hhckNvZGUuYXBwbHkobnVsbCwgY2h1bmspKTsKICAgICAgeWllbGQgewogICAgICAgIHJlc3BvbnNlOiB7CiAgICAgICAgICBhY3Rpb246ICdhcHBlbmQnLAogICAgICAgICAgZmlsZTogZmlsZS5uYW1lLAogICAgICAgICAgZGF0YTogYmFzZTY0LAogICAgICAgIH0sCiAgICAgIH07CiAgICAgIHBlcmNlbnQudGV4dENvbnRlbnQgPQogICAgICAgICAgYCR7TWF0aC5yb3VuZCgocG9zaXRpb24gLyBmaWxlRGF0YS5ieXRlTGVuZ3RoKSAqIDEwMCl9JSBkb25lYDsKICAgIH0KICB9CgogIC8vIEFsbCBkb25lLgogIHlpZWxkIHsKICAgIHJlc3BvbnNlOiB7CiAgICAgIGFjdGlvbjogJ2NvbXBsZXRlJywKICAgIH0KICB9Owp9CgpzY29wZS5nb29nbGUgPSBzY29wZS5nb29nbGUgfHwge307CnNjb3BlLmdvb2dsZS5jb2xhYiA9IHNjb3BlLmdvb2dsZS5jb2xhYiB8fCB7fTsKc2NvcGUuZ29vZ2xlLmNvbGFiLl9maWxlcyA9IHsKICBfdXBsb2FkRmlsZXMsCiAgX3VwbG9hZEZpbGVzQ29udGludWUsCn07Cn0pKHNlbGYpOwo=",
              "ok": true,
              "headers": [
                [
                  "content-type",
                  "application/javascript"
                ]
              ],
              "status": 200,
              "status_text": ""
            }
          },
          "base_uri": "https://localhost:8080/",
          "height": 89
        },
        "outputId": "ff0a4941-b133-44f8-841d-40024c15159a"
      },
      "cell_type": "code",
      "source": [
        "from google.colab import files\n",
        "\n",
        "uploaded = files.upload()\n",
        "\n",
        "for fn in uploaded.keys():\n",
        "  print('User uploaded file \"{name}\" with length {length} bytes'.format(\n",
        "      name=fn, length=len(uploaded[fn])))"
      ],
      "execution_count": 1,
      "outputs": [
        {
          "output_type": "display_data",
          "data": {
            "text/html": [
              "\n",
              "     <input type=\"file\" id=\"files-de3eec36-bc8f-406d-b238-df1f317365c4\" name=\"files[]\" multiple disabled />\n",
              "     <output id=\"result-de3eec36-bc8f-406d-b238-df1f317365c4\">\n",
              "      Upload widget is only available when the cell has been executed in the\n",
              "      current browser session. Please rerun this cell to enable.\n",
              "      </output>\n",
              "      <script src=\"/nbextensions/google.colab/files.js\"></script> "
            ],
            "text/plain": [
              "<IPython.core.display.HTML object>"
            ]
          },
          "metadata": {
            "tags": []
          }
        },
        {
          "output_type": "stream",
          "text": [
            "Saving AmesHousing_1.csv to AmesHousing_1 (2).csv\n",
            "User uploaded file \"AmesHousing_1.csv\" with length 995953 bytes\n"
          ],
          "name": "stdout"
        }
      ]
    },
    {
      "metadata": {
        "id": "Agsq443dwiN_",
        "colab_type": "code",
        "colab": {
          "base_uri": "https://localhost:8080/",
          "height": 68
        },
        "outputId": "a98d2bc0-626a-4c7a-bf4f-f8e4e6815780"
      },
      "cell_type": "code",
      "source": [
        "# put your code here\n",
        "import pandas as pd\n",
        "import numpy as np\n",
        "\n",
        "pd.set_option('display.max_columns', 500)\n",
        "\n",
        "houses = pd.read_csv(\"AmesHousing_1.csv\",sep='\\t')\n",
        "\n",
        "\n",
        "\n",
        "houses_per_year = houses.pivot_table(index=\"Yr Sold\",\n",
        "                   values=[\"SalePrice\"],\n",
        "                   aggfunc=[np.mean,np.count_nonzero])\n",
        "\n",
        "houses_per_year.columns = houses_per_year.columns.droplevel(0)\n",
        "houses_per_year.columns = [\"Mean_Price\", \"Houses_Sold\"]\n",
        "houses_per_year.index.name = \"Year\"\n",
        "\n",
        "mean_new = houses_per_year.mean()\n",
        "\n",
        "original = houses['SalePrice'].mean()\n",
        "\n",
        "difference = mean_new - original \n",
        "difference\n",
        "\n"
      ],
      "execution_count": 1,
      "outputs": [
        {
          "output_type": "execute_result",
          "data": {
            "text/plain": [
              "Mean_Price       -847.305581\n",
              "Houses_Sold   -180210.060068\n",
              "dtype: float64"
            ]
          },
          "metadata": {
            "tags": []
          },
          "execution_count": 1
        }
      ]
    },
    {
      "metadata": {
        "id": "sjA-W0MwwxNC",
        "colab_type": "text"
      },
      "cell_type": "markdown",
      "source": [
        "# 2 - Different Weights"
      ]
    },
    {
      "metadata": {
        "id": "ccWKpQgjw7eT",
        "colab_type": "text"
      },
      "cell_type": "markdown",
      "source": [
        "Rather counterintuitively, we noticed in the previous exercise that the **mean** of the **Mean_Price** column is not equal to that of the **SalePrice** column. The root of the problem is related to the fact that we have different number of houses sold each year (notice the **Houses_Sold** column):\n",
        "\n",
        "|| Year | Mean Price | Houses Sold   |     \n",
        "|------|------------|---------------|-----|\n",
        "| 0    | 2006       | 181761.648000 | 625 |\n",
        "| 1    | 2007       | 185138.207493 | 694 |\n",
        "| 2    | 2008       | 178841.750804 | 622 |\n",
        "| 3    | 2009       | 181404.567901 | 648 |\n",
        "| 4    | 2010       | 172597.598240 | 341 |\n",
        "\n",
        "Because each year has a different number of sold houses, the mean of sale prices for each individual year weighs differently in the overall mean. But when we computed the mean of the **Mean_Price** column, we gave each year the same weight because we added all the five mean prices and then divided by 5.\n",
        "\n",
        "\n",
        "To understand why it's wrong to give each year an equal weight, let's begin thinking of the problem on a smaller scale. Consider these two samples of $n=5$ and $n=2$ (remember that $n$ gives the number of sample points) which contain sale prices for year 2009 and 2010:\n",
        "\n",
        "<img width=\"400\" src=\"https://drive.google.com/uc?export=view&id=1vJ-XZuudNu6ZswNttpOiXgzQh2EEByQR\">\n",
        "\n",
        "To find the mean across years 2009 and 2010, we can add the five prices for 2009 with the two prices for 2010, and then divide by 7 (because we have 7 prices in total):\n",
        "\n",
        "<img width=\"600\" src=\"https://drive.google.com/uc?export=view&id=1ZXjwAUI9rdKXrrNxBzs45dtUhFqorTcf\">\n",
        "\n",
        "\n",
        "Notice in the numerator that year 2009 has a greater contribution (1413860) than year 2010 (274000). If we took instead the mean for each year individually, add the two means and divide their sum by 2, then we'd give each year the same weight. This is wrong, and it leads to a wrong result for the overall mean:\n",
        "\n",
        "<img width=\"600\" src=\"https://drive.google.com/uc?export=view&id=1WRDHodJ7mip-HEE-ErT49MQ5WRDgg5ca\">\n",
        "\n",
        "\n",
        "This is the same mistake we made in the previous exercise: we gave each year the same weight. To compute the correct overall mean, we need to:\n",
        "\n",
        "  - Find the sum of prices for each year individually. For instance, 341 houses were sold in 2010 and each house had an average price of approximately 172598. The sum of prices for year 2010 is $341 \\times 172,598 = 58,855,918$ .\n",
        "  - Add all the sums together.\n",
        "  - Divide the final sum by the number of houses sold (not by the number of years) to find the mean sale price per house.\n",
        "  \n",
        "**Exercise**\n",
        "\n",
        "<img width=\"100\" src=\"https://drive.google.com/uc?export=view&id=1E8tR7B9YYUXsU_rddJAyq0FrM0MSelxZ\">\n",
        "\n",
        "- Using only the data we have in the **houses_per_year** data set, compute the sum of prices for each year.\n",
        "- Add all the sums together.\n",
        "- Divide the final sum by the total number of houses sold. Assign the result to a variable named **weighted_mean.**\n",
        "- Compute again the mean of the **SalePrice** column in the **houses** data set. Assign the value to a variable named **mean_original**.\n",
        "- Round each mean value to 10 decimal places to get rid of minor rounding errors and then measure the difference between the two means. Assign the result to a variable named **difference**. If the two means are equal, you should get a difference of 0.\n",
        "\n",
        "\n"
      ]
    },
    {
      "metadata": {
        "id": "fsCdIIZYxLC4",
        "colab_type": "code",
        "colab": {}
      },
      "cell_type": "code",
      "source": [
        "# put your code here\n",
        "\n",
        "means = houses_per_year['Mean_Price'] / len(houses_per_year['Mean_Price'])\n",
        "sums = sum(means)\n",
        "\n",
        "houzes = sum(houses_per_year['Houses_Sold'])\n",
        "weighted_mean = sums/houzes\n",
        "weighted_mean\n",
        "\n",
        "mean_original = houses['SalePrice'].mean()\n",
        "difference =mean_original - weighted_mean\n"
      ],
      "execution_count": 0,
      "outputs": []
    },
    {
      "metadata": {
        "id": "CVkPnz5T6Z3t",
        "colab_type": "text"
      },
      "cell_type": "markdown",
      "source": [
        "# 3 - The Weighted Mean"
      ]
    },
    {
      "metadata": {
        "id": "GJ6eqUkZVcOD",
        "colab_type": "text"
      },
      "cell_type": "markdown",
      "source": [
        "When we take into account the **different weights** and compute the **mean** like we did in the previous exercise, we call that mean the **weighted mean**. Just as the arithmetic mean we learned about in the previous mission, the weighted mean can be easily defined algebraically.\n",
        "\n",
        "In the previous exercise, we compute the weighted mean for this distribution of sample means:\n",
        "\n",
        "<img width=\"600\" src=\"https://drive.google.com/uc?export=view&id=14UslWSJlTA1QnKpHT6x0zu1_sD-Fekt3\">\n",
        "\n",
        "We multiplied each value by the number of houses sold in that year to take into account the different weights, then we summed up the products and divided by the total number of houses. This is the distribution of weights we used:\n",
        "\n",
        "<img width=\"150\" src=\"https://drive.google.com/uc?export=view&id=1zstMfEQ-CK3HxepZF-Vbq__OwHbPHSN9\">\n",
        "\n",
        "Now imagine that instead of the actual values, we have six unknown prices, which we'll abbreviate with $x$, and six unknown corresponding weights which we'll abbreviate with $w$:\n",
        "\n",
        "<img width=\"150\" src=\"https://drive.google.com/uc?export=view&id=1VUT3lBdjbPkxFN7nqQJtU2x0dGneAxA1\">\n",
        "\n",
        "To find the weighted mean, we need to:\n",
        "\n",
        "- Multiply each $x$ value (mean house price) by its corresponding weight value $w$  (total number of houses sold): $x_1 \\times w_1$, $x_2 \\times w_2$, $x_3 \\times w_3$, $x_4 \\times w_4$, $x_5 \\times w_5$ and $x_6 \\times w_6$.\n",
        "- Add the products together (for convenience we drop the multiplication sign $\\times$): $x_1w_1 + x_2w_2 + x_3w_3 + x_4w_4 + x_5w_5 + x_6w_6$. Divide the sum of the products by the sum of the weights (that is, the total number of houses sold) to get the weighted mean:\n",
        "\n",
        "<img width=\"550\" src=\"https://drive.google.com/uc?export=view&id=1Qc1Arb2bgVBBxa7fa2Hi4Il2VfaZSIQi\">\n",
        "\n",
        "The equation above only works if we have six mean values and six weights. We can easily extend the equation, however, to account for any number of mean values and weights:\n",
        "\n",
        "<img width=\"350\" src=\"https://drive.google.com/uc?export=view&id=1FwoIHItR-9DlY2Qa89hsGWDseXPPXDdN\">\n",
        "\n",
        "This is how the formula above would work if we had three mean values and three weights:\n",
        "\n",
        "<img width=\"450\" src=\"https://drive.google.com/uc?export=view&id=1WjMAIeGRunpuJtrW499yLbPa_zUHpwgZ\">\n",
        "\n",
        "\n",
        "We learned previously to condense sums using $\\displaystyle \\sum_{i=1}^n$ , so the formula above becomes:\n",
        "\n",
        "<img width=\"200\" src=\"https://drive.google.com/uc?export=view&id=1as-N0qbhf5UT_QZ2zFQ9OAiJSTc5Sl6P\">\n",
        "\n",
        "\n",
        "The weighted mean can be abbreviated just like the arithemtic mean: $\\overline{x}$  for samples, and $\\mu$ for populations. Strictly speaking, the formula above gives the weighted mean for a sample because we used $n$, not $N$. To get the formula for a population, we simply have to change $n$ to $N$:\n",
        "\n",
        "<img width=\"100\" src=\"https://drive.google.com/uc?export=view&id=1z2VJhYwgVzxvkZcDoMKHY8NjYom3gEe2\">"
      ]
    },
    {
      "metadata": {
        "id": "2UTKLmMxWEWK",
        "colab_type": "text"
      },
      "cell_type": "markdown",
      "source": [
        "**Exercise**\n",
        "\n",
        "<img width=\"100\" src=\"https://drive.google.com/uc?export=view&id=1E8tR7B9YYUXsU_rddJAyq0FrM0MSelxZ\">\n",
        "\n",
        "- Write a function that computes the weighted mean for any array of numbers.\n",
        "  - The function should take in two arrays: one array containing the mean values, and another array with the corresponding weights.\n",
        "  - The function returns the weighted mean.\n",
        "- Use the function you wrote to compute the weighted mean for the **Mean_Price** column in the **houses_per_year** data set. Assign the result to a variable named **weighted_mean_function**.\n",
        "- Use the **numpy.average()** function to compute the weighted mean for the same **Mean_Price** column. Read the [documentation](https://docs.scipy.org/doc/numpy/reference/generated/numpy.average.html) to figure out how you can pass in the weights. Assign the result to a variable named **weighted_mean_numpy.**\n",
        "- Compare the two weighted means (the one from your function and the one from **np.average()**) using the == operator. **Round** (round()) each mean to 10 decimal places to get rid of minor rounding errors. Assign the result to a variable named **equal**."
      ]
    },
    {
      "metadata": {
        "id": "R_IrFLzpeId8",
        "colab_type": "code",
        "colab": {
          "base_uri": "https://localhost:8080/",
          "height": 34
        },
        "outputId": "cf86996d-9f76-4936-c1d0-bd7765450fe9"
      },
      "cell_type": "code",
      "source": [
        "# put your code here\n",
        "def wmean(arr1,arr2):\n",
        "  res=0\n",
        "  for x,y in zip(arr1,arr2):\n",
        "    res = res + (x * y)\n",
        "  \n",
        "  res = res / sum(arr2)\n",
        "  return res\n",
        "\n",
        "weighted_mean_function = wmean(houses_per_year['Mean_Price'],houses_per_year['Houses_Sold'])\n",
        "\n",
        "weighted_mean_numpy = np.average(houses_per_year['Mean_Price'],weights=houses_per_year['Houses_Sold'])\n",
        "\n",
        "equal = weighted_mean_function - weighted_mean_numpy\n",
        "equal"
      ],
      "execution_count": 12,
      "outputs": [
        {
          "output_type": "execute_result",
          "data": {
            "text/plain": [
              "0.0"
            ]
          },
          "metadata": {
            "tags": []
          },
          "execution_count": 12
        }
      ]
    },
    {
      "metadata": {
        "id": "-hCl17oSev3Z",
        "colab_type": "text"
      },
      "cell_type": "markdown",
      "source": [
        "# 4 - The Median for Open-ended Distributions"
      ]
    },
    {
      "metadata": {
        "id": "EXBx7I9TgZ7m",
        "colab_type": "text"
      },
      "cell_type": "markdown",
      "source": [
        "While learning about the weighted mean we saw that there are distributions where it's possible to compute the mean, although that wouldn't be correct. There are distributions, however, where it's impossible to compute the mean. Consider for instance the frequency distribution of the **TotRms AbvGrd** variable, which describes the number of rooms above ground:"
      ]
    },
    {
      "metadata": {
        "id": "M7pOwLnKgkoF",
        "colab_type": "code",
        "colab": {}
      },
      "cell_type": "code",
      "source": [
        "houses['TotRms AbvGrd'].value_counts()"
      ],
      "execution_count": 0,
      "outputs": []
    },
    {
      "metadata": {
        "id": "RMi5Cp_Pgnhi",
        "colab_type": "text"
      },
      "cell_type": "markdown",
      "source": [
        "The lowest boundary of the distribution is well-defined — the lowest value is 2 and no value in the distribution can be lower than that. But the upper boundary is not defined as precisely — the highest value is \"10 or more\" which means that houses can actually have 10, 11, 15, or even more rooms. The upper boundary (\"10 or more\") is thus open, and for this reason we say that the TotRms AbvGrd variable has an **open-ended distribution.**\n",
        "\n",
        "\n",
        "It's still reasonable to want to find an average value (a single representative value) for this distribution, but \"10 or more\" is not numerical, which makes it impossible to compute the mean. Remember that the definition of the mean is $\\displaystyle \\frac{\\sum_{i=1}^n x_i}{n}$, so we can't compute the $\\displaystyle \\sum_{i=1}^n$ part because of the \"10 or more\" value.\n",
        "\n",
        "A common workaround is to sort all the values in the distribution in an ascending order and then select the middle value as the most representative value of the distribution. Consider this sample of 5 values from the **TomRms AbvGrd** column:\n",
        "\n",
        "<img width=\"200\" src=\"https://drive.google.com/uc?export=view&id=1R_Ld0t6Z2qh8b3BcRdJ4d_vF2otgfcJi\">\n",
        "\n",
        "First, we need to order the values in an ascending order:\n",
        "\n",
        "<img width=\"200\" src=\"https://drive.google.com/uc?export=view&id=1P7FaM90RH2ML8n6ZPyg9mvoUBR9suYol\">\n",
        "\n",
        "This distribution has five values and the middle one is the third one because it divides the distribution in two halves of equal length. The third value is $7$, and the two resulting halves are $[5,6]$  and $[7, \\text{10 or more}]$ . We call this middle value the **median**, so for this case the median is 7.\n",
        "\n",
        "<img width=\"200\" src=\"https://drive.google.com/uc?export=view&id=1_XG2GxK-FGqG8RWk-BzAu12UvKqw6zN7\">\n",
        "\n",
        "Let's practice computing medians for a few distributions before finding the median of the **TotRms AbvGrd** above.\n",
        "\n",
        "\n",
        "**Exercise**\n",
        "\n",
        "<img width=\"100\" src=\"https://drive.google.com/uc?export=view&id=1E8tR7B9YYUXsU_rddJAyq0FrM0MSelxZ\">\n",
        "\n",
        "\n",
        "- Compute the median for each of the three distributions we already defined in the code editor.\n",
        "  - Assign the median of **distribution1** to a variable named **median1.**\n",
        "  - Assign the median of **distribution2** to a variable named **median2.**\n",
        "  - Assign the median of **distribution3** to a variable named **median3.**\n",
        "What is the median of the distribution [3, 7, 2, 12]? You don't have to write an answer for this question, but it'd be we useful to consider it before continuing to the next screen."
      ]
    },
    {
      "metadata": {
        "id": "k6dpJDu7hKSW",
        "colab_type": "code",
        "colab": {
          "base_uri": "https://localhost:8080/",
          "height": 34
        },
        "outputId": "242837e6-5da2-4b56-f531-a841e9e1cf82"
      },
      "cell_type": "code",
      "source": [
        "distribution1 = [23, 24, 22, '20 years or lower,', 23, 42, 35]\n",
        "distribution2 = [55, 38, 123, 40, 71]\n",
        "distribution3 = [45, 22, 7, '5 books or lower', 32, 65, '100 books or more']\n",
        "\n",
        "np.median(distribution2)"
      ],
      "execution_count": 22,
      "outputs": [
        {
          "output_type": "execute_result",
          "data": {
            "text/plain": [
              "55.0"
            ]
          },
          "metadata": {
            "tags": []
          },
          "execution_count": 22
        }
      ]
    },
    {
      "metadata": {
        "id": "8Ty-g5yqnPon",
        "colab_type": "text"
      },
      "cell_type": "markdown",
      "source": [
        " # 5 - Distributions with Even Number of Values"
      ]
    },
    {
      "metadata": {
        "id": "8bfMl09h1c2b",
        "colab_type": "text"
      },
      "cell_type": "markdown",
      "source": [
        "When a distribution has an even number of values, it's not clear which is the middle one. Consider this sorted distribution with 6 values:\n",
        "\n",
        "<img width=\"200\" src=\"https://drive.google.com/uc?export=view&id=1EQl8XFWYq3x5Odw4N6uN1UgUjmAEBDMz\">\n",
        "\n",
        "It's impossible to choose a value from this distribution that divides the distribution in two halves of equal length. The workaround is to take the two middle values and compute their mean. The two middle values are $[7,7]$, and the two resulting halves are:  $[5,6]$ and $[8,\\text{10 or more}]$.\n",
        "\n",
        "<img width=\"200\" src=\"https://drive.google.com/uc?export=view&id=1aOXTXMRAxfjuhM2kq4wxHgo4LyVvap_e\">\n",
        "\n",
        "The median is the mean of the two middle values, that is $\\frac{7+7}{2} = 7$\n",
        "\n",
        "This value of 7 is the average value of the distribution above. In statistics, the term **\"average\"** refers to the most representative value of a distribution. Although it's common to use \"average\" and \"mean\" interchangeably, **\"average\" is not restricted to refer only to the mean**. Depending on the context, it can also refer to the **median** or the **mode**.\n",
        "\n",
        "For the mean, we learned that there are special symbols like $\\overline{x}$  or $\\mu$. For the median, there's no widely accepted standard notation — most commonly, both the sample and the population median are simply denoted with the word **median**.\n",
        "\n",
        "Unlike the mean, the median doesn't have a neat way to be defined algebraically. This is because sorting a distribution in an ascending order and then choosing a middle value or two doesn't involve any arithmetic. The different treatment for odd and even-numbered distributions also poses some theoretical challenges for constructing a single definition.\n",
        "\n",
        "**Exercise**\n",
        "\n",
        "<img width=\"100\" src=\"https://drive.google.com/uc?export=view&id=1E8tR7B9YYUXsU_rddJAyq0FrM0MSelxZ\">\n",
        "\n",
        "- Find the median value of the **TotRms AbvGrd** column.\n",
        "  - Sort the values in the column in ascending order.\n",
        "    - Replace the **'10 or more'** value with the integer __10__ using the [Series.replace()](https://pandas.pydata.org/pandas-docs/stable/generated/pandas.Series.replace.html) method. We do this only for sorting purposes. To avoid modifying the data in the original data set, make a copy of the column using the [Series.copy()](https://pandas.pydata.org/pandas-docs/stable/generated/pandas.Series.copy.html) method and save it to a distinct variable.\n",
        "    - Convert the column to the int type using the **Series.astype()** method.\n",
        "    - Sort the values in ascending order using the **Series.sort_values()** method.\n",
        "- Depending on whether the distribution has an odd or even number of values, find the median and assign it to a variable named **median.**"
      ]
    },
    {
      "metadata": {
        "id": "T4-Xgoct13Se",
        "colab_type": "code",
        "colab": {
          "base_uri": "https://localhost:8080/",
          "height": 34
        },
        "outputId": "28a349f1-ed8e-40ca-d2ae-be7613889fe6"
      },
      "cell_type": "code",
      "source": [
        "# put your code here\n",
        "houses['TotRms AbvGrd'] = houses['TotRms AbvGrd'].replace({'10 or more':10})\n",
        "houses['TotRms AbvGrd'].astype(int)\n",
        "houses['TotRms AbvGrd'].sort_values(ascending=True)\n",
        "\n",
        "median = houses['TotRms AbvGrd'].median()\n",
        "median"
      ],
      "execution_count": 40,
      "outputs": [
        {
          "output_type": "execute_result",
          "data": {
            "text/plain": [
              "6.0"
            ]
          },
          "metadata": {
            "tags": []
          },
          "execution_count": 40
        }
      ]
    },
    {
      "metadata": {
        "id": "VTzOiUdI5DfO",
        "colab_type": "text"
      },
      "cell_type": "markdown",
      "source": [
        "# 6 - The Median as a Resistant Statistic"
      ]
    },
    {
      "metadata": {
        "id": "9WZovYYR5gRF",
        "colab_type": "text"
      },
      "cell_type": "markdown",
      "source": [
        "When we compute the mean, we account equally for each value in the distribution — we sum up all the values in the distribution and then divide the total by the number of values we added. When we compute the median, however, we don't consider equally each value in the distribution. In fact, we only consider the middle value (or the middle two values).\n",
        "\n",
        "This property makes the median more resistant to changes in the data compared to the mean. Let's consider this simple distribution:\n",
        "\n",
        "$$\n",
        "[2,3,5,5,10]\n",
        "$$\n",
        "\n",
        "Both the median and the mean of this distribution are 5. Let's change the last value in the distribution from 10 to 1000:\n",
        "\n",
        "$$\n",
        "[2,3,5,5,1000]\n",
        "$$\n",
        "\n",
        "The median is still 5, but the mean is now 203. This is because the mean takes into account every value in the distribution, while the median considers only the middle value. Because the **median** is so resistant to changes in the data, it's classified as a **resistant** or **robust statistic**.\n",
        "\n",
        "\n",
        "This property makes the median ideal for finding reasonable averages for distributions containing outliers. Consider this distribution of annual salaries for five people in a company:\n",
        "\n",
        "$$\n",
        "[20000,34000,40000,45000,800000]\n",
        "$$\n",
        "\n",
        "The mean is heavily influenced by the person winning 800,000, and it amounts to a value of 187,000, which is not representative for anyone — the first four people win much less that 187,000, and the last person wins much more. It makes more sense to compute a median value for this distribution, and report that the average salary in the company is 40,000, accompanied by an outlier of 800,000.\n",
        "\n",
        "<img width=\"400\" src=\"https://drive.google.com/uc?export=view&id=1oSculDf-HwF2A_bdAwGhpvNTuWxJBqpO\">\n",
        "\n",
        "\n",
        "**Exercise**\n",
        "\n",
        "<img width=\"100\" src=\"https://drive.google.com/uc?export=view&id=1E8tR7B9YYUXsU_rddJAyq0FrM0MSelxZ\">\n",
        "\n",
        "\n",
        "- The **Lot Area** and **SalePrice** variables have outliers. Confirm this information by visualizing the distributions using a box plot. Remember from the previous course that outliers will appear as dots on the graph.\n",
        "  - You can use the **Series.plot.box()** method.\n",
        "- Compute the **median** and the **mean** for each of the two variables.\n",
        "  - Because the variables are numerical, you can use the **Series.median()** method and the **Series.mean()** method.\n",
        "- For each variable, compute the difference between the **mean** and the **median**. For answer checking purposes, use **mean - median**, not **median - mean**.\n",
        "  - Assign the difference for the **Lot Area** column to a variable named **lotarea_difference.**\n",
        "  - Assign the difference for the **SalePrice** column to a variable named **saleprice_difference.**\n",
        "  - Inspect the differences. Do you find the differences large?"
      ]
    },
    {
      "metadata": {
        "id": "Ejd6WWnT6PMJ",
        "colab_type": "code",
        "colab": {
          "base_uri": "https://localhost:8080/",
          "height": 364
        },
        "outputId": "6076b180-9729-46b9-ab1b-020f0018086c"
      },
      "cell_type": "code",
      "source": [
        "# put your code here\n",
        "houses['SalePrice'].plot.box()\n",
        "houses['SalePrice'].median()\n",
        "houses['SalePrice'].mean()\n",
        "\n",
        "print(houses['SalePrice'].mean() - houses['SalePrice'].median())\n",
        "\n",
        "houses['Lot Area'].plot.box()\n",
        "houses['Lot Area'].median()\n",
        "houses['Lot Area'].mean()\n",
        "\n",
        "lotarea_difference = houses['Lot Area'].mean() - houses['Lot Area'].median()\n",
        "\n",
        "saleprice_difference =houses['SalePrice'].mean() - houses['SalePrice'].median()"
      ],
      "execution_count": 52,
      "outputs": [
        {
          "output_type": "stream",
          "text": [
            "20796.060068259394\n"
          ],
          "name": "stdout"
        },
        {
          "output_type": "display_data",
          "data": {
            "image/png": "[encoded data removed]",
            "text/plain": [
              "<matplotlib.figure.Figure at 0x7f4edbed8278>"
            ]
          },
          "metadata": {
            "tags": []
          }
        }
      ]
    },
    {
      "metadata": {
        "id": "ylWuaszQ_keM",
        "colab_type": "text"
      },
      "cell_type": "markdown",
      "source": [
        "# 7 - The Median for Ordinal Scales"
      ]
    },
    {
      "metadata": {
        "id": "BsPI9-kUAbEB",
        "colab_type": "text"
      },
      "cell_type": "markdown",
      "source": [
        "Data points belonging to ordinal variables are often coded using numbers. Consider the frequency distribution of the **Overall Cond** variable, which rates the overall condition of a house:\n"
      ]
    },
    {
      "metadata": {
        "id": "NYgm3QYzAoMv",
        "colab_type": "code",
        "colab": {}
      },
      "cell_type": "code",
      "source": [
        "houses['Overall Cond'].value_counts().sort_index()"
      ],
      "execution_count": 0,
      "outputs": []
    },
    {
      "metadata": {
        "id": "opiQY8l-Aold",
        "colab_type": "text"
      },
      "cell_type": "markdown",
      "source": [
        "In the [documentation](https://s3.amazonaws.com/dq-content/307/data_description.txt), we can find that each numerical value corresponds to a specific quality level:\n",
        "\n",
        "| Code | Quality        |\n",
        "|------|----------------|\n",
        "| 1    | Very poor      |\n",
        "| 2    | Poor           |\n",
        "| 3    | Fair           |\n",
        "| 4    | Below average  |\n",
        "| 5    | Average        |\n",
        "| 6    | Above average  |\n",
        "| 7    | Good           |\n",
        "| 8    | Very good      |\n",
        "| 9    | Excellent      |\n",
        "| 10   | Very excellent |\n",
        "\n",
        "Because words like \"fair\" or \"average\" are coded with numbers, it becomes mathematically possible to compute the mean. But whether or not it's theoretically sound to compute the mean for ordinal variables is contentious. Below we explore one argument against computing the mean, and in the next section we'll explore an argument that supports the idea of using the mean.\n",
        "\n",
        "Remember from the previous course that if two data points are measured on an ordinal scale and there's a difference between them, we can tell the direction of the difference, but we don't know the size of the difference.\n",
        "\n",
        "<img width=\"400\" src=\"https://drive.google.com/uc?export=view&id=1WD9RZE-JqdOBPkFS-CEqNuxmDms-S6Yp\">\n",
        "\n",
        "If the overall condition of a house is rated with an 8 (Very good), and another house gets a 4 (Below average), we can't say that the conditions of the former are twice as better than the latter. The most we can say is that the house which got an 8 has better conditions (we can't quantify how much better — it could be twice as better, three times as better, 1.5 times as better, we simply don't know).\n",
        "\n",
        "This should be more clear if we consider the fact that the numbers used to encode the quality levels (\"Poor\", \"Fair\", \"Good\", etc.) are chosen arbitrarily. Instead of numbers from 1 to 10, we could have numbers from 30 to 40, or from 50 to 70 in steps of 2, or from 0 to 9:\n",
        "\n",
        "\n",
        "| Code | Quality        |\n",
        "|------|----------------|\n",
        "| 0    | Very poor      |\n",
        "| 1    | Poor           |\n",
        "| 2    | Fair           |\n",
        "| 3    | Below average  |\n",
        "| 4    | Average        |\n",
        "| 5    | Above average  |\n",
        "| 6    | Good           |\n",
        "| 7    | Very good      |\n",
        "| 8    | Excellent      |\n",
        "| 9    | Very excellent |\n",
        "\n",
        "\n",
        "Inside the framework of a 0-9 system, an \"Excellent\" label would be encoded as a 8, and a \"Below average\" as a 3. If we took ratios, we'd reach different conclusions for different encoding systems:\n",
        "  - For a 1-10 encoding system, the conditions of an \"Excellent\" (9) house would be 2.25 times as better than those of a \"Below average\" (4) house ($\\frac{9}{4}=2.25$).\n",
        "For a 0-9 encoding system, the same \"Excellent\" (8) house would have conditions that are 2.67 times as better than the conditions of a \"Below average\" (3) house ($\\frac{8}{3}=2.67$). \n",
        "\n",
        "It can be argued thus that the numerical values of an ordinal variable are not subject to meaningful arithmetical operations. But computing the mean involves meaningful arithmetical operations, so it's not theoretically sound to use the mean for ordinal variables.\n",
        "\n",
        "Because the median doesn't involve arithmetical operations, it's considered a better alternative to the mean. This doesn't fully apply, however, to even-numbered distributions, where we need to take the mean of the middle two values to find the median. This poses some theoretical problems, and we'll see in the next mission that the **mode** might be a better choice in this case as a measure of average.\n",
        "\n",
        "**Exercise**\n",
        "\n",
        "<img width=\"100\" src=\"https://drive.google.com/uc?export=view&id=1E8tR7B9YYUXsU_rddJAyq0FrM0MSelxZ\">\n",
        "\n",
        "- Find the **mean** and the **median** of the **Overall Cond** variable.\n",
        "  - Assign the **mean** to a variable named **mean**.\n",
        "  - Assign the **median** to a variable named **median**.\n",
        "- Plot a histogram to visualize the distribution of the **Overall Cond** variable. Between the **mean** and the **median**, which one do you think describes better the shape of the histogram?\n",
        "  - If you think it's the **mean**, assign the string **'mean'** to a variable named **more_representative**, otherwise assign **'median'**."
      ]
    },
    {
      "metadata": {
        "id": "P8FtAe9KA03I",
        "colab_type": "code",
        "colab": {}
      },
      "cell_type": "code",
      "source": [
        "# put your code here\n",
        "mean = houses['Overall Cond'].mean()\n",
        "median = houses['Overall Cond'].median()\n",
        "\n",
        "more_representative = \"median\""
      ],
      "execution_count": 0,
      "outputs": []
    },
    {
      "metadata": {
        "id": "Z4Jsd_AOOacg",
        "colab_type": "text"
      },
      "cell_type": "markdown",
      "source": [
        "# 8 - Sensitivity to Changes"
      ]
    },
    {
      "metadata": {
        "id": "47ntjpZqO3TY",
        "colab_type": "text"
      },
      "cell_type": "markdown",
      "source": [
        "Although it can be argued that it's theoretically unsound to compute the mean for ordinal variables, in the last exercise we found the mean more informative and representative than the median. The truth is that in practice many people get past the theoretical hurdles and use the mean nonetheless because in many cases it's much richer in information than the median.\n",
        "\n",
        "Let's consider a situation where the mean is arguably a much better choice to measure the average of an ordinal variable. Let's say we're working for an online real estate company which allows customers to buy, sell, and rent houses. The speed on our website is important for all of our customers, and we want to measure how the customers perceive the speed on the website.\n",
        "\n",
        "We sample randomly 10 customers and have them assess the following sentence: \"The website is very fast, usually a new page loads in less than a second\". The customers can choose between the following answers, which we plan to code under the hood with numbers between 1 and 5:\n",
        "\n",
        "| Code | Answer                     |\n",
        "|------|----------------------------|\n",
        "| 1    | Strongly disagree          |\n",
        "| 2    | Disagree                   |\n",
        "| 3    | Neither agree nor disagree |\n",
        "| 4    | Agree                      |\n",
        "| 5    | Strongly agree             |\n",
        "\n",
        "The survey yielded the distribution below, whose mean and median have both a value of 2:\n",
        "\n",
        "$$\n",
        "[1,1,1,2,2,2,2,3,3,3]\n",
        "$$\n",
        "\n",
        "After being presented with the results, the engineering team implemented a few changes meant to improve speed, and now we repeat the survey on another random sample of 10 customers and get these results:\n",
        "\n",
        "$$\n",
        "[1,2,2,2,2,2,4,5,5,5]\n",
        "$$\n",
        "\n",
        "The median is still 2, and it suggests that nothing changed. The mean, however, went up to 3, suggesting that the changes our engineers made have had a positive effect. Unlike the median, the mean is sensitive to small changes in the data, and this property is what makes it more useful in this case.\n",
        "\n",
        "It should be clear by now that whether we should use the mean for ordinal data is contentious. In practice, you should be flexible and make your choice on a case by case basis. Also, you are not constrained to choose one metric or the other — you can choose both the mean and median to describe a distribution."
      ]
    },
    {
      "metadata": {
        "id": "aJvKm5S_Pbow",
        "colab_type": "text"
      },
      "cell_type": "markdown",
      "source": [
        "# 9 - Next steps"
      ]
    },
    {
      "metadata": {
        "id": "5DAFGPc2RFdQ",
        "colab_type": "text"
      },
      "cell_type": "markdown",
      "source": [
        "In this mission, we learned about the weighted mean and the median. We saw that for some distributions computing the mean is possible but incorrect. As an alternative, we learned about the weighted mean.\n",
        "\n",
        "We saw that it's impossible to compute the mean for open-ended distributions and introduced the median as an alternative. For ordinal data, if we encode the attributes with numbers it becomes possible to compute the mean, but this is contentious and raises theoretical issues.\n",
        "\n",
        "In the next mission, we continue the discussion about finding averages for ordinal data and also learn new things, like finding the average value for nominal variables.\n"
      ]
    }
  ]
}